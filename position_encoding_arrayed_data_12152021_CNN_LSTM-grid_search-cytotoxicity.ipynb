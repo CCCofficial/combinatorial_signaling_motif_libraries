{
 "cells": [
  {
   "cell_type": "markdown",
   "metadata": {},
   "source": [
    "# Data Analysis-- Supervised Learning\n",
    "* Created on Mon Sep. 29 2021 by Shangying Wang\n",
    "* Last Modified: Dec.15, 2021\n",
    "* this code is used for prediction of the phenotypes from the combinatory motifs\n",
    "* This code uses the convolutional neural network and LSTM."
   ]
  },
  {
   "cell_type": "code",
   "execution_count": 1,
   "metadata": {},
   "outputs": [
    {
     "name": "stdout",
     "output_type": "stream",
     "text": [
      "3.7.8\n"
     ]
    }
   ],
   "source": [
    "import tensorflow as tf\n",
    "import numpy as np\n",
    "import pandas as pd\n",
    "from tensorflow import keras\n",
    "from sklearn.model_selection import train_test_split\n",
    "from keras.utils.np_utils import to_categorical\n",
    "import csv\n",
    "import os\n",
    "import matplotlib.pyplot as plt\n",
    "from platform import python_version\n",
    "print(python_version())"
   ]
  },
  {
   "cell_type": "code",
   "execution_count": 2,
   "metadata": {},
   "outputs": [
    {
     "name": "stdout",
     "output_type": "stream",
     "text": [
      "2.6.0\n"
     ]
    }
   ],
   "source": [
    "from tensorflow.keras.optimizers import SGD, Adam\n",
    "from keras import layers,Sequential\n",
    "from keras.layers import Lambda\n",
    "from keras.layers import Input, Dense, Dropout, Flatten, Average, BatchNormalization, LSTM, TimeDistributed\n",
    "from tensorflow.keras.layers import Conv1D,MaxPool1D, concatenate\n",
    "from keras.layers.convolutional import Convolution1D, MaxPooling1D\n",
    "from keras.initializers import RandomNormal,HeNormal,GlorotNormal,HeUniform,LecunNormal,LecunUniform,Orthogonal\n",
    "from sklearn.preprocessing import MinMaxScaler,StandardScaler,RobustScaler\n",
    "from itertools import product\n",
    "from sklearn import metrics\n",
    "from sklearn.preprocessing import scale\n",
    "from sklearn.cluster import KMeans\n",
    "from sklearn.datasets import make_blobs\n",
    "from sklearn.utils import shuffle\n",
    "from sklearn.model_selection import GridSearchCV\n",
    "print(tf.__version__)"
   ]
  },
  {
   "cell_type": "markdown",
   "metadata": {},
   "source": [
    "# For arrayed data analysis"
   ]
  },
  {
   "cell_type": "markdown",
   "metadata": {},
   "source": [
    "## Load data from csv file"
   ]
  },
  {
   "cell_type": "code",
   "execution_count": 3,
   "metadata": {},
   "outputs": [
    {
     "ename": "FileNotFoundError",
     "evalue": "[Errno 2] No such file or directory: 'data/array_randomseed2_training221_wseq.csv'",
     "output_type": "error",
     "traceback": [
      "\u001b[0;31m---------------------------------------------------------------------------\u001b[0m",
      "\u001b[0;31mFileNotFoundError\u001b[0m                         Traceback (most recent call last)",
      "\u001b[0;32m<ipython-input-3-e0d1f4281110>\u001b[0m in \u001b[0;36m<module>\u001b[0;34m\u001b[0m\n\u001b[0;32m----> 1\u001b[0;31m \u001b[0mtrain_data\u001b[0m\u001b[0;34m=\u001b[0m\u001b[0mpd\u001b[0m\u001b[0;34m.\u001b[0m\u001b[0mread_csv\u001b[0m\u001b[0;34m(\u001b[0m\u001b[0;34m'data/array_randomseed2_training221_wseq.csv'\u001b[0m\u001b[0;34m,\u001b[0m\u001b[0mencoding\u001b[0m\u001b[0;34m=\u001b[0m \u001b[0;34m'unicode_escape'\u001b[0m\u001b[0;34m,\u001b[0m\u001b[0msep\u001b[0m\u001b[0;34m=\u001b[0m\u001b[0;34m','\u001b[0m\u001b[0;34m)\u001b[0m\u001b[0;34m\u001b[0m\u001b[0;34m\u001b[0m\u001b[0m\n\u001b[0m\u001b[1;32m      2\u001b[0m \u001b[0mtest_data\u001b[0m\u001b[0;34m=\u001b[0m\u001b[0mpd\u001b[0m\u001b[0;34m.\u001b[0m\u001b[0mread_csv\u001b[0m\u001b[0;34m(\u001b[0m\u001b[0;34m'data/array_randomseed2_test25_wseq.csv'\u001b[0m\u001b[0;34m,\u001b[0m\u001b[0mencoding\u001b[0m\u001b[0;34m=\u001b[0m \u001b[0;34m'unicode_escape'\u001b[0m\u001b[0;34m,\u001b[0m\u001b[0msep\u001b[0m\u001b[0;34m=\u001b[0m\u001b[0;34m','\u001b[0m\u001b[0;34m)\u001b[0m\u001b[0;34m\u001b[0m\u001b[0;34m\u001b[0m\u001b[0m\n\u001b[1;32m      3\u001b[0m \u001b[0mtrain_data\u001b[0m \u001b[0;34m=\u001b[0m \u001b[0mtrain_data\u001b[0m\u001b[0;34m.\u001b[0m\u001b[0msample\u001b[0m\u001b[0;34m(\u001b[0m\u001b[0mfrac\u001b[0m\u001b[0;34m=\u001b[0m\u001b[0;36m1\u001b[0m\u001b[0;34m)\u001b[0m\u001b[0;34m.\u001b[0m\u001b[0mreset_index\u001b[0m\u001b[0;34m(\u001b[0m\u001b[0mdrop\u001b[0m\u001b[0;34m=\u001b[0m\u001b[0;32mTrue\u001b[0m\u001b[0;34m)\u001b[0m\u001b[0;34m\u001b[0m\u001b[0;34m\u001b[0m\u001b[0m\n\u001b[1;32m      4\u001b[0m \u001b[0mtest_data\u001b[0m \u001b[0;34m=\u001b[0m \u001b[0mtest_data\u001b[0m\u001b[0;34m.\u001b[0m\u001b[0msample\u001b[0m\u001b[0;34m(\u001b[0m\u001b[0mfrac\u001b[0m\u001b[0;34m=\u001b[0m\u001b[0;36m1\u001b[0m\u001b[0;34m)\u001b[0m\u001b[0;34m.\u001b[0m\u001b[0mreset_index\u001b[0m\u001b[0;34m(\u001b[0m\u001b[0mdrop\u001b[0m\u001b[0;34m=\u001b[0m\u001b[0;32mTrue\u001b[0m\u001b[0;34m)\u001b[0m\u001b[0;34m\u001b[0m\u001b[0;34m\u001b[0m\u001b[0m\n\u001b[1;32m      5\u001b[0m \u001b[0mtrain_data\u001b[0m\u001b[0;34m.\u001b[0m\u001b[0mdrop\u001b[0m\u001b[0;34m(\u001b[0m\u001b[0;34m[\u001b[0m\u001b[0;34m'motif.5'\u001b[0m\u001b[0;34m,\u001b[0m \u001b[0;34m'AA Seq'\u001b[0m\u001b[0;34m,\u001b[0m\u001b[0;34m'Parts'\u001b[0m\u001b[0;34m,\u001b[0m\u001b[0;34m'NaiveCM'\u001b[0m\u001b[0;34m]\u001b[0m\u001b[0;34m,\u001b[0m \u001b[0maxis\u001b[0m\u001b[0;34m=\u001b[0m\u001b[0;36m1\u001b[0m\u001b[0;34m,\u001b[0m \u001b[0minplace\u001b[0m\u001b[0;34m=\u001b[0m\u001b[0;32mTrue\u001b[0m\u001b[0;34m)\u001b[0m\u001b[0;34m\u001b[0m\u001b[0;34m\u001b[0m\u001b[0m\n",
      "\u001b[0;32m/Library/Frameworks/Python.framework/Versions/3.7/lib/python3.7/site-packages/pandas/io/parsers.py\u001b[0m in \u001b[0;36mparser_f\u001b[0;34m(filepath_or_buffer, sep, delimiter, header, names, index_col, usecols, squeeze, prefix, mangle_dupe_cols, dtype, engine, converters, true_values, false_values, skipinitialspace, skiprows, skipfooter, nrows, na_values, keep_default_na, na_filter, verbose, skip_blank_lines, parse_dates, infer_datetime_format, keep_date_col, date_parser, dayfirst, cache_dates, iterator, chunksize, compression, thousands, decimal, lineterminator, quotechar, quoting, doublequote, escapechar, comment, encoding, dialect, error_bad_lines, warn_bad_lines, delim_whitespace, low_memory, memory_map, float_precision)\u001b[0m\n\u001b[1;32m    674\u001b[0m         )\n\u001b[1;32m    675\u001b[0m \u001b[0;34m\u001b[0m\u001b[0m\n\u001b[0;32m--> 676\u001b[0;31m         \u001b[0;32mreturn\u001b[0m \u001b[0m_read\u001b[0m\u001b[0;34m(\u001b[0m\u001b[0mfilepath_or_buffer\u001b[0m\u001b[0;34m,\u001b[0m \u001b[0mkwds\u001b[0m\u001b[0;34m)\u001b[0m\u001b[0;34m\u001b[0m\u001b[0;34m\u001b[0m\u001b[0m\n\u001b[0m\u001b[1;32m    677\u001b[0m \u001b[0;34m\u001b[0m\u001b[0m\n\u001b[1;32m    678\u001b[0m     \u001b[0mparser_f\u001b[0m\u001b[0;34m.\u001b[0m\u001b[0m__name__\u001b[0m \u001b[0;34m=\u001b[0m \u001b[0mname\u001b[0m\u001b[0;34m\u001b[0m\u001b[0;34m\u001b[0m\u001b[0m\n",
      "\u001b[0;32m/Library/Frameworks/Python.framework/Versions/3.7/lib/python3.7/site-packages/pandas/io/parsers.py\u001b[0m in \u001b[0;36m_read\u001b[0;34m(filepath_or_buffer, kwds)\u001b[0m\n\u001b[1;32m    446\u001b[0m \u001b[0;34m\u001b[0m\u001b[0m\n\u001b[1;32m    447\u001b[0m     \u001b[0;31m# Create the parser.\u001b[0m\u001b[0;34m\u001b[0m\u001b[0;34m\u001b[0m\u001b[0;34m\u001b[0m\u001b[0m\n\u001b[0;32m--> 448\u001b[0;31m     \u001b[0mparser\u001b[0m \u001b[0;34m=\u001b[0m \u001b[0mTextFileReader\u001b[0m\u001b[0;34m(\u001b[0m\u001b[0mfp_or_buf\u001b[0m\u001b[0;34m,\u001b[0m \u001b[0;34m**\u001b[0m\u001b[0mkwds\u001b[0m\u001b[0;34m)\u001b[0m\u001b[0;34m\u001b[0m\u001b[0;34m\u001b[0m\u001b[0m\n\u001b[0m\u001b[1;32m    449\u001b[0m \u001b[0;34m\u001b[0m\u001b[0m\n\u001b[1;32m    450\u001b[0m     \u001b[0;32mif\u001b[0m \u001b[0mchunksize\u001b[0m \u001b[0;32mor\u001b[0m \u001b[0miterator\u001b[0m\u001b[0;34m:\u001b[0m\u001b[0;34m\u001b[0m\u001b[0;34m\u001b[0m\u001b[0m\n",
      "\u001b[0;32m/Library/Frameworks/Python.framework/Versions/3.7/lib/python3.7/site-packages/pandas/io/parsers.py\u001b[0m in \u001b[0;36m__init__\u001b[0;34m(self, f, engine, **kwds)\u001b[0m\n\u001b[1;32m    878\u001b[0m             \u001b[0mself\u001b[0m\u001b[0;34m.\u001b[0m\u001b[0moptions\u001b[0m\u001b[0;34m[\u001b[0m\u001b[0;34m\"has_index_names\"\u001b[0m\u001b[0;34m]\u001b[0m \u001b[0;34m=\u001b[0m \u001b[0mkwds\u001b[0m\u001b[0;34m[\u001b[0m\u001b[0;34m\"has_index_names\"\u001b[0m\u001b[0;34m]\u001b[0m\u001b[0;34m\u001b[0m\u001b[0;34m\u001b[0m\u001b[0m\n\u001b[1;32m    879\u001b[0m \u001b[0;34m\u001b[0m\u001b[0m\n\u001b[0;32m--> 880\u001b[0;31m         \u001b[0mself\u001b[0m\u001b[0;34m.\u001b[0m\u001b[0m_make_engine\u001b[0m\u001b[0;34m(\u001b[0m\u001b[0mself\u001b[0m\u001b[0;34m.\u001b[0m\u001b[0mengine\u001b[0m\u001b[0;34m)\u001b[0m\u001b[0;34m\u001b[0m\u001b[0;34m\u001b[0m\u001b[0m\n\u001b[0m\u001b[1;32m    881\u001b[0m \u001b[0;34m\u001b[0m\u001b[0m\n\u001b[1;32m    882\u001b[0m     \u001b[0;32mdef\u001b[0m \u001b[0mclose\u001b[0m\u001b[0;34m(\u001b[0m\u001b[0mself\u001b[0m\u001b[0;34m)\u001b[0m\u001b[0;34m:\u001b[0m\u001b[0;34m\u001b[0m\u001b[0;34m\u001b[0m\u001b[0m\n",
      "\u001b[0;32m/Library/Frameworks/Python.framework/Versions/3.7/lib/python3.7/site-packages/pandas/io/parsers.py\u001b[0m in \u001b[0;36m_make_engine\u001b[0;34m(self, engine)\u001b[0m\n\u001b[1;32m   1112\u001b[0m     \u001b[0;32mdef\u001b[0m \u001b[0m_make_engine\u001b[0m\u001b[0;34m(\u001b[0m\u001b[0mself\u001b[0m\u001b[0;34m,\u001b[0m \u001b[0mengine\u001b[0m\u001b[0;34m=\u001b[0m\u001b[0;34m\"c\"\u001b[0m\u001b[0;34m)\u001b[0m\u001b[0;34m:\u001b[0m\u001b[0;34m\u001b[0m\u001b[0;34m\u001b[0m\u001b[0m\n\u001b[1;32m   1113\u001b[0m         \u001b[0;32mif\u001b[0m \u001b[0mengine\u001b[0m \u001b[0;34m==\u001b[0m \u001b[0;34m\"c\"\u001b[0m\u001b[0;34m:\u001b[0m\u001b[0;34m\u001b[0m\u001b[0;34m\u001b[0m\u001b[0m\n\u001b[0;32m-> 1114\u001b[0;31m             \u001b[0mself\u001b[0m\u001b[0;34m.\u001b[0m\u001b[0m_engine\u001b[0m \u001b[0;34m=\u001b[0m \u001b[0mCParserWrapper\u001b[0m\u001b[0;34m(\u001b[0m\u001b[0mself\u001b[0m\u001b[0;34m.\u001b[0m\u001b[0mf\u001b[0m\u001b[0;34m,\u001b[0m \u001b[0;34m**\u001b[0m\u001b[0mself\u001b[0m\u001b[0;34m.\u001b[0m\u001b[0moptions\u001b[0m\u001b[0;34m)\u001b[0m\u001b[0;34m\u001b[0m\u001b[0;34m\u001b[0m\u001b[0m\n\u001b[0m\u001b[1;32m   1115\u001b[0m         \u001b[0;32melse\u001b[0m\u001b[0;34m:\u001b[0m\u001b[0;34m\u001b[0m\u001b[0;34m\u001b[0m\u001b[0m\n\u001b[1;32m   1116\u001b[0m             \u001b[0;32mif\u001b[0m \u001b[0mengine\u001b[0m \u001b[0;34m==\u001b[0m \u001b[0;34m\"python\"\u001b[0m\u001b[0;34m:\u001b[0m\u001b[0;34m\u001b[0m\u001b[0;34m\u001b[0m\u001b[0m\n",
      "\u001b[0;32m/Library/Frameworks/Python.framework/Versions/3.7/lib/python3.7/site-packages/pandas/io/parsers.py\u001b[0m in \u001b[0;36m__init__\u001b[0;34m(self, src, **kwds)\u001b[0m\n\u001b[1;32m   1872\u001b[0m         \u001b[0;32mif\u001b[0m \u001b[0mkwds\u001b[0m\u001b[0;34m.\u001b[0m\u001b[0mget\u001b[0m\u001b[0;34m(\u001b[0m\u001b[0;34m\"compression\"\u001b[0m\u001b[0;34m)\u001b[0m \u001b[0;32mis\u001b[0m \u001b[0;32mNone\u001b[0m \u001b[0;32mand\u001b[0m \u001b[0mencoding\u001b[0m\u001b[0;34m:\u001b[0m\u001b[0;34m\u001b[0m\u001b[0;34m\u001b[0m\u001b[0m\n\u001b[1;32m   1873\u001b[0m             \u001b[0;32mif\u001b[0m \u001b[0misinstance\u001b[0m\u001b[0;34m(\u001b[0m\u001b[0msrc\u001b[0m\u001b[0;34m,\u001b[0m \u001b[0mstr\u001b[0m\u001b[0;34m)\u001b[0m\u001b[0;34m:\u001b[0m\u001b[0;34m\u001b[0m\u001b[0;34m\u001b[0m\u001b[0m\n\u001b[0;32m-> 1874\u001b[0;31m                 \u001b[0msrc\u001b[0m \u001b[0;34m=\u001b[0m \u001b[0mopen\u001b[0m\u001b[0;34m(\u001b[0m\u001b[0msrc\u001b[0m\u001b[0;34m,\u001b[0m \u001b[0;34m\"rb\"\u001b[0m\u001b[0;34m)\u001b[0m\u001b[0;34m\u001b[0m\u001b[0;34m\u001b[0m\u001b[0m\n\u001b[0m\u001b[1;32m   1875\u001b[0m                 \u001b[0mself\u001b[0m\u001b[0;34m.\u001b[0m\u001b[0mhandles\u001b[0m\u001b[0;34m.\u001b[0m\u001b[0mappend\u001b[0m\u001b[0;34m(\u001b[0m\u001b[0msrc\u001b[0m\u001b[0;34m)\u001b[0m\u001b[0;34m\u001b[0m\u001b[0;34m\u001b[0m\u001b[0m\n\u001b[1;32m   1876\u001b[0m \u001b[0;34m\u001b[0m\u001b[0m\n",
      "\u001b[0;31mFileNotFoundError\u001b[0m: [Errno 2] No such file or directory: 'data/array_randomseed2_training221_wseq.csv'"
     ]
    }
   ],
   "source": [
    "train_data=pd.read_csv('data/array_randomseed2_training221_wseq.csv',encoding= 'unicode_escape',sep=',')\n",
    "test_data=pd.read_csv('data/array_randomseed2_test25_wseq.csv',encoding= 'unicode_escape',sep=',')\n",
    "train_data = train_data.sample(frac=1).reset_index(drop=True)\n",
    "test_data = test_data.sample(frac=1).reset_index(drop=True)\n",
    "train_data.drop(['motif.5', 'AA Seq','Parts','NaiveCM'], axis=1, inplace=True)\n",
    "test_data.drop(['motif.5', 'AA Seq','Parts','NaiveCM'], axis=1, inplace=True)\n",
    "test_data"
   ]
  },
  {
   "cell_type": "code",
   "execution_count": 119,
   "metadata": {},
   "outputs": [
    {
     "data": {
      "text/html": [
       "<div>\n",
       "<style scoped>\n",
       "    .dataframe tbody tr th:only-of-type {\n",
       "        vertical-align: middle;\n",
       "    }\n",
       "\n",
       "    .dataframe tbody tr th {\n",
       "        vertical-align: top;\n",
       "    }\n",
       "\n",
       "    .dataframe thead th {\n",
       "        text-align: right;\n",
       "    }\n",
       "</style>\n",
       "<table border=\"1\" class=\"dataframe\">\n",
       "  <thead>\n",
       "    <tr style=\"text-align: right;\">\n",
       "      <th></th>\n",
       "      <th>Cell Number</th>\n",
       "      <th>motif</th>\n",
       "      <th>motif.1</th>\n",
       "      <th>motif.2</th>\n",
       "      <th>motif.3</th>\n",
       "      <th>motif.4</th>\n",
       "      <th>Nalm 6 Cytotoxicity</th>\n",
       "      <th>IL7RaKLRG1 stemness</th>\n",
       "    </tr>\n",
       "  </thead>\n",
       "  <tbody>\n",
       "    <tr>\n",
       "      <th>count</th>\n",
       "      <td>246.000000</td>\n",
       "      <td>246.000000</td>\n",
       "      <td>246.000000</td>\n",
       "      <td>246.000000</td>\n",
       "      <td>246.000000</td>\n",
       "      <td>246.000000</td>\n",
       "      <td>246.000000</td>\n",
       "      <td>246.000000</td>\n",
       "    </tr>\n",
       "    <tr>\n",
       "      <th>mean</th>\n",
       "      <td>0.255184</td>\n",
       "      <td>7.252033</td>\n",
       "      <td>6.926829</td>\n",
       "      <td>7.300813</td>\n",
       "      <td>12.475610</td>\n",
       "      <td>0.739837</td>\n",
       "      <td>0.615778</td>\n",
       "      <td>18.648821</td>\n",
       "    </tr>\n",
       "    <tr>\n",
       "      <th>std</th>\n",
       "      <td>0.210155</td>\n",
       "      <td>3.910412</td>\n",
       "      <td>3.815480</td>\n",
       "      <td>3.995783</td>\n",
       "      <td>4.147954</td>\n",
       "      <td>3.138536</td>\n",
       "      <td>0.253641</td>\n",
       "      <td>8.116347</td>\n",
       "    </tr>\n",
       "    <tr>\n",
       "      <th>min</th>\n",
       "      <td>0.003385</td>\n",
       "      <td>1.000000</td>\n",
       "      <td>1.000000</td>\n",
       "      <td>0.000000</td>\n",
       "      <td>0.000000</td>\n",
       "      <td>0.000000</td>\n",
       "      <td>0.002313</td>\n",
       "      <td>4.490000</td>\n",
       "    </tr>\n",
       "    <tr>\n",
       "      <th>25%</th>\n",
       "      <td>0.103734</td>\n",
       "      <td>3.000000</td>\n",
       "      <td>3.000000</td>\n",
       "      <td>3.000000</td>\n",
       "      <td>14.000000</td>\n",
       "      <td>0.000000</td>\n",
       "      <td>0.431323</td>\n",
       "      <td>12.500000</td>\n",
       "    </tr>\n",
       "    <tr>\n",
       "      <th>50%</th>\n",
       "      <td>0.194125</td>\n",
       "      <td>8.000000</td>\n",
       "      <td>8.000000</td>\n",
       "      <td>8.000000</td>\n",
       "      <td>14.000000</td>\n",
       "      <td>0.000000</td>\n",
       "      <td>0.655914</td>\n",
       "      <td>16.950000</td>\n",
       "    </tr>\n",
       "    <tr>\n",
       "      <th>75%</th>\n",
       "      <td>0.324693</td>\n",
       "      <td>11.000000</td>\n",
       "      <td>10.000000</td>\n",
       "      <td>11.000000</td>\n",
       "      <td>14.000000</td>\n",
       "      <td>0.000000</td>\n",
       "      <td>0.820133</td>\n",
       "      <td>23.050000</td>\n",
       "    </tr>\n",
       "    <tr>\n",
       "      <th>max</th>\n",
       "      <td>1.000000</td>\n",
       "      <td>13.000000</td>\n",
       "      <td>14.000000</td>\n",
       "      <td>14.000000</td>\n",
       "      <td>14.000000</td>\n",
       "      <td>14.000000</td>\n",
       "      <td>1.197448</td>\n",
       "      <td>46.200000</td>\n",
       "    </tr>\n",
       "  </tbody>\n",
       "</table>\n",
       "</div>"
      ],
      "text/plain": [
       "       Cell Number       motif     motif.1     motif.2     motif.3  \\\n",
       "count   246.000000  246.000000  246.000000  246.000000  246.000000   \n",
       "mean      0.255184    7.252033    6.926829    7.300813   12.475610   \n",
       "std       0.210155    3.910412    3.815480    3.995783    4.147954   \n",
       "min       0.003385    1.000000    1.000000    0.000000    0.000000   \n",
       "25%       0.103734    3.000000    3.000000    3.000000   14.000000   \n",
       "50%       0.194125    8.000000    8.000000    8.000000   14.000000   \n",
       "75%       0.324693   11.000000   10.000000   11.000000   14.000000   \n",
       "max       1.000000   13.000000   14.000000   14.000000   14.000000   \n",
       "\n",
       "          motif.4  Nalm 6 Cytotoxicity  IL7RaKLRG1 stemness  \n",
       "count  246.000000           246.000000           246.000000  \n",
       "mean     0.739837             0.615778            18.648821  \n",
       "std      3.138536             0.253641             8.116347  \n",
       "min      0.000000             0.002313             4.490000  \n",
       "25%      0.000000             0.431323            12.500000  \n",
       "50%      0.000000             0.655914            16.950000  \n",
       "75%      0.000000             0.820133            23.050000  \n",
       "max     14.000000             1.197448            46.200000  "
      ]
     },
     "execution_count": 119,
     "metadata": {},
     "output_type": "execute_result"
    }
   ],
   "source": [
    "#data statistics\n",
    "all_data = pd.concat([test_data, train_data])\n",
    "max_cell=max(all_data['Cell Number'])\n",
    "all_data['Cell Number']=all_data['Cell Number']/max_cell\n",
    "train_data['Cell Number']=train_data['Cell Number']/max_cell\n",
    "test_data['Cell Number']=test_data['Cell Number']/max_cell\n",
    "stats_df = all_data.describe()\n",
    "stats_df"
   ]
  },
  {
   "cell_type": "code",
   "execution_count": 120,
   "metadata": {},
   "outputs": [
    {
     "data": {
      "text/plain": [
       "-0.24443600883940747"
      ]
     },
     "execution_count": 120,
     "metadata": {},
     "output_type": "execute_result"
    }
   ],
   "source": [
    "skew_vals1=all_data['Nalm 6 Cytotoxicity'].skew()\n",
    "skew_vals1"
   ]
  },
  {
   "cell_type": "code",
   "execution_count": 121,
   "metadata": {},
   "outputs": [
    {
     "data": {
      "text/plain": [
       "0.9435370705807998"
      ]
     },
     "execution_count": 121,
     "metadata": {},
     "output_type": "execute_result"
    }
   ],
   "source": [
    "skew_vals2=all_data['IL7RaKLRG1 stemness'].skew()\n",
    "skew_vals2"
   ]
  },
  {
   "cell_type": "code",
   "execution_count": 122,
   "metadata": {},
   "outputs": [
    {
     "data": {
      "text/plain": [
       "Text(0.5, 1.0, 'after np.log1p')"
      ]
     },
     "execution_count": 122,
     "metadata": {},
     "output_type": "execute_result"
    },
    {
     "data": {
      "image/png": "[encoded data removed]",
      "text/plain": [
       "<Figure size 720x1440 with 2 Axes>"
      ]
     },
     "metadata": {},
     "output_type": "display_data"
    }
   ],
   "source": [
    "plt.figure(figsize=[10,20])\n",
    "pheno=['IL7RaKLRG1 stemness']\n",
    "new_data = all_data.copy()\n",
    "pp=0\n",
    "plt.subplot(3,2,1)\n",
    "new_data[pheno[pp]].hist(bins=10)\n",
    "plt.xlabel('value', fontsize=20)\n",
    "plt.ylabel('frequency', fontsize=20)\n",
    "plt.title('before np.log1p', fontsize=20)\n",
    "\n",
    "plt.subplot(3,2,2)\n",
    "new_data[pheno[pp]]=new_data[pheno[pp]].apply(np.log1p)\n",
    "new_data[pheno[pp]].hist(bins=10)\n",
    "plt.xlabel('value', fontsize=20)\n",
    "#plt.ylabel('frequency', fontsize=20)\n",
    "plt.title('after np.log1p', fontsize=20)"
   ]
  },
  {
   "cell_type": "code",
   "execution_count": 123,
   "metadata": {},
   "outputs": [
    {
     "data": {
      "text/plain": [
       "0.032751013323507376"
      ]
     },
     "execution_count": 123,
     "metadata": {},
     "output_type": "execute_result"
    }
   ],
   "source": [
    "skew_vals2=new_data['IL7RaKLRG1 stemness'].skew()\n",
    "skew_vals2"
   ]
  },
  {
   "cell_type": "code",
   "execution_count": 124,
   "metadata": {},
   "outputs": [],
   "source": [
    "train_data['IL7RaKLRG1 stemness'] = train_data['IL7RaKLRG1 stemness'].apply(np.log1p)\n",
    "test_data['IL7RaKLRG1 stemness'] = test_data['IL7RaKLRG1 stemness'].apply(np.log1p)"
   ]
  },
  {
   "cell_type": "code",
   "execution_count": 125,
   "metadata": {},
   "outputs": [
    {
     "data": {
      "text/html": [
       "<div>\n",
       "<style scoped>\n",
       "    .dataframe tbody tr th:only-of-type {\n",
       "        vertical-align: middle;\n",
       "    }\n",
       "\n",
       "    .dataframe tbody tr th {\n",
       "        vertical-align: top;\n",
       "    }\n",
       "\n",
       "    .dataframe thead th {\n",
       "        text-align: right;\n",
       "    }\n",
       "</style>\n",
       "<table border=\"1\" class=\"dataframe\">\n",
       "  <thead>\n",
       "    <tr style=\"text-align: right;\">\n",
       "      <th></th>\n",
       "      <th>Cell Number</th>\n",
       "      <th>motif</th>\n",
       "      <th>motif.1</th>\n",
       "      <th>motif.2</th>\n",
       "      <th>motif.3</th>\n",
       "      <th>motif.4</th>\n",
       "      <th>Nalm 6 Cytotoxicity</th>\n",
       "      <th>IL7RaKLRG1 stemness</th>\n",
       "    </tr>\n",
       "  </thead>\n",
       "  <tbody>\n",
       "    <tr>\n",
       "      <th>count</th>\n",
       "      <td>221.000000</td>\n",
       "      <td>221.00000</td>\n",
       "      <td>221.000000</td>\n",
       "      <td>221.000000</td>\n",
       "      <td>221.000000</td>\n",
       "      <td>221.000000</td>\n",
       "      <td>221.000000</td>\n",
       "      <td>221.000000</td>\n",
       "    </tr>\n",
       "    <tr>\n",
       "      <th>mean</th>\n",
       "      <td>0.257121</td>\n",
       "      <td>7.20362</td>\n",
       "      <td>6.791855</td>\n",
       "      <td>7.371041</td>\n",
       "      <td>12.656109</td>\n",
       "      <td>0.760181</td>\n",
       "      <td>0.628467</td>\n",
       "      <td>2.895283</td>\n",
       "    </tr>\n",
       "    <tr>\n",
       "      <th>std</th>\n",
       "      <td>0.211839</td>\n",
       "      <td>3.94959</td>\n",
       "      <td>3.800972</td>\n",
       "      <td>3.905459</td>\n",
       "      <td>3.898639</td>\n",
       "      <td>3.179687</td>\n",
       "      <td>0.252597</td>\n",
       "      <td>0.397182</td>\n",
       "    </tr>\n",
       "    <tr>\n",
       "      <th>min</th>\n",
       "      <td>0.003385</td>\n",
       "      <td>1.00000</td>\n",
       "      <td>1.000000</td>\n",
       "      <td>0.000000</td>\n",
       "      <td>0.000000</td>\n",
       "      <td>0.000000</td>\n",
       "      <td>0.004702</td>\n",
       "      <td>1.702928</td>\n",
       "    </tr>\n",
       "    <tr>\n",
       "      <th>25%</th>\n",
       "      <td>0.098971</td>\n",
       "      <td>3.00000</td>\n",
       "      <td>3.000000</td>\n",
       "      <td>3.000000</td>\n",
       "      <td>14.000000</td>\n",
       "      <td>0.000000</td>\n",
       "      <td>0.439604</td>\n",
       "      <td>2.602690</td>\n",
       "    </tr>\n",
       "    <tr>\n",
       "      <th>50%</th>\n",
       "      <td>0.209824</td>\n",
       "      <td>8.00000</td>\n",
       "      <td>8.000000</td>\n",
       "      <td>8.000000</td>\n",
       "      <td>14.000000</td>\n",
       "      <td>0.000000</td>\n",
       "      <td>0.666384</td>\n",
       "      <td>2.862201</td>\n",
       "    </tr>\n",
       "    <tr>\n",
       "      <th>75%</th>\n",
       "      <td>0.341985</td>\n",
       "      <td>11.00000</td>\n",
       "      <td>10.000000</td>\n",
       "      <td>11.000000</td>\n",
       "      <td>14.000000</td>\n",
       "      <td>0.000000</td>\n",
       "      <td>0.831310</td>\n",
       "      <td>3.173878</td>\n",
       "    </tr>\n",
       "    <tr>\n",
       "      <th>max</th>\n",
       "      <td>1.000000</td>\n",
       "      <td>13.00000</td>\n",
       "      <td>14.000000</td>\n",
       "      <td>14.000000</td>\n",
       "      <td>14.000000</td>\n",
       "      <td>14.000000</td>\n",
       "      <td>1.197448</td>\n",
       "      <td>3.854394</td>\n",
       "    </tr>\n",
       "  </tbody>\n",
       "</table>\n",
       "</div>"
      ],
      "text/plain": [
       "       Cell Number      motif     motif.1     motif.2     motif.3     motif.4  \\\n",
       "count   221.000000  221.00000  221.000000  221.000000  221.000000  221.000000   \n",
       "mean      0.257121    7.20362    6.791855    7.371041   12.656109    0.760181   \n",
       "std       0.211839    3.94959    3.800972    3.905459    3.898639    3.179687   \n",
       "min       0.003385    1.00000    1.000000    0.000000    0.000000    0.000000   \n",
       "25%       0.098971    3.00000    3.000000    3.000000   14.000000    0.000000   \n",
       "50%       0.209824    8.00000    8.000000    8.000000   14.000000    0.000000   \n",
       "75%       0.341985   11.00000   10.000000   11.000000   14.000000    0.000000   \n",
       "max       1.000000   13.00000   14.000000   14.000000   14.000000   14.000000   \n",
       "\n",
       "       Nalm 6 Cytotoxicity  IL7RaKLRG1 stemness  \n",
       "count           221.000000           221.000000  \n",
       "mean              0.628467             2.895283  \n",
       "std               0.252597             0.397182  \n",
       "min               0.004702             1.702928  \n",
       "25%               0.439604             2.602690  \n",
       "50%               0.666384             2.862201  \n",
       "75%               0.831310             3.173878  \n",
       "max               1.197448             3.854394  "
      ]
     },
     "execution_count": 125,
     "metadata": {},
     "output_type": "execute_result"
    }
   ],
   "source": [
    "stats_df = train_data.describe()\n",
    "stats_df"
   ]
  },
  {
   "cell_type": "markdown",
   "metadata": {},
   "source": [
    "## Deep Neural Network for Nalm 6 Cytotoxicity"
   ]
  },
  {
   "cell_type": "code",
   "execution_count": 126,
   "metadata": {},
   "outputs": [
    {
     "data": {
      "text/plain": [
       "array([ 0,  1,  2,  3,  4,  5,  6,  7,  8,  9, 10, 11, 12, 13, 14])"
      ]
     },
     "execution_count": 126,
     "metadata": {},
     "output_type": "execute_result"
    }
   ],
   "source": [
    "num_motifs=5\n",
    "num_class=num_class=len(np.unique(new_data.iloc[:,1:(num_motifs+1)]))\n",
    "np.unique(new_data.iloc[:,1:(num_motifs+1)])"
   ]
  },
  {
   "cell_type": "code",
   "execution_count": 127,
   "metadata": {},
   "outputs": [
    {
     "data": {
      "text/plain": [
       "1.197447799"
      ]
     },
     "execution_count": 127,
     "metadata": {},
     "output_type": "execute_result"
    }
   ],
   "source": [
    "max_y=np.max(new_data['Nalm 6 Cytotoxicity'])\n",
    "max_y"
   ]
  },
  {
   "cell_type": "code",
   "execution_count": 188,
   "metadata": {},
   "outputs": [],
   "source": [
    "ICN_train, X_train, Y_train = train_data.iloc[:, :1], train_data.iloc[:,1:(num_motifs+1)], train_data['Nalm 6 Cytotoxicity']/max_y\n",
    "ICN_test, X_test, Y_test = test_data.iloc[:, :1], test_data.iloc[:,1:(num_motifs+1)], test_data['Nalm 6 Cytotoxicity']/max_y"
   ]
  },
  {
   "cell_type": "markdown",
   "metadata": {},
   "source": [
    "### One-hot encoding for 14 linear motifs: "
   ]
  },
  {
   "cell_type": "code",
   "execution_count": 189,
   "metadata": {},
   "outputs": [
    {
     "name": "stdout",
     "output_type": "stream",
     "text": [
      "(25, 5, 15)\n"
     ]
    }
   ],
   "source": [
    "X_train_channel=to_categorical(X_train, num_classes=num_class)\n",
    "X_test_channel=to_categorical(X_test, num_classes=num_class)\n",
    "print(np.shape(X_test_channel)) #3D tensor with shape (batch_size, steps, features/channels)"
   ]
  },
  {
   "cell_type": "code",
   "execution_count": 190,
   "metadata": {},
   "outputs": [],
   "source": [
    "output_dim = 1\n",
    "batch_size = 10"
   ]
  },
  {
   "cell_type": "code",
   "execution_count": 191,
   "metadata": {},
   "outputs": [
    {
     "data": {
      "text/plain": [
       "count    221.000000\n",
       "mean       0.524839\n",
       "std        0.210947\n",
       "min        0.003927\n",
       "25%        0.367118\n",
       "50%        0.556504\n",
       "75%        0.694235\n",
       "max        1.000000\n",
       "Name: Nalm 6 Cytotoxicity, dtype: float64"
      ]
     },
     "execution_count": 191,
     "metadata": {},
     "output_type": "execute_result"
    }
   ],
   "source": [
    "stats_df = Y_train.describe()\n",
    "stats_df"
   ]
  },
  {
   "cell_type": "markdown",
   "metadata": {},
   "source": [
    "## GridSearchCV--search for the optimal hyperparameters  "
   ]
  },
  {
   "cell_type": "code",
   "execution_count": 192,
   "metadata": {},
   "outputs": [
    {
     "data": {
      "text/plain": [
       "(221, 75)"
      ]
     },
     "execution_count": 192,
     "metadata": {},
     "output_type": "execute_result"
    }
   ],
   "source": [
    "np.shape(np.reshape(X_train_channel, [np.shape(X_train_channel)[0], -1]))"
   ]
  },
  {
   "cell_type": "code",
   "execution_count": 233,
   "metadata": {},
   "outputs": [],
   "source": [
    "#In order to tune the parameters, define deep NN structure as a tuning function\n",
    "def create_model(filters=32, LSTM_units=4, dropout_rate1=0.2, fc_nodes=50):\n",
    "    #seperate inputs:\n",
    "    # create model\n",
    "    input_all=Input(shape=(76,),name='input_all')\n",
    "    input1=Lambda(lambda x: x[:,:-1])(input_all)\n",
    "    input_position = tf.keras.layers.Reshape((num_motifs, num_class), input_shape=(75,))(input1)\n",
    "    input_ICN = Lambda(lambda x: tf.expand_dims(x[:,-1],-1))(input_all) # (None,1)\n",
    "                           \n",
    "    x=Conv1D(filters=filters, kernel_size=3, padding='same', activation='relu', input_shape=(num_motifs, num_class))(1.0*input_position)\n",
    "    x=LSTM(LSTM_units,return_sequences=True, dropout=dropout_rate1)(x)#return_sequences=True,\n",
    "    x = Flatten()(x)\n",
    "    model1 = keras.Model(inputs=input_all, outputs=x)\n",
    "\n",
    "\n",
    "    # combine the output of the two branches\n",
    "    combined = concatenate([model1.output, input_ICN])\n",
    "    # apply a FC layer and then a regression prediction on the\n",
    "    # combined outputs\n",
    "\n",
    "    z = Dense(fc_nodes, activation='relu')(combined)\n",
    "    z = Dropout(0.5)(z)\n",
    "    z = Dense(1, activation='relu')(z)\n",
    "\n",
    "    # our model will accept the inputs of the two branches and\n",
    "    # then output a single value\n",
    "    model = keras.Model(inputs=input_all, outputs=z)\n",
    "\n",
    "    # Compile model\n",
    "    model.compile(loss=keras.losses.MeanSquaredError(), optimizer=keras.optimizers.RMSprop(learning_rate=1e-4), metrics=[tf.keras.metrics.MeanSquaredError()])\n",
    "    return model"
   ]
  },
  {
   "cell_type": "code",
   "execution_count": 246,
   "metadata": {},
   "outputs": [],
   "source": [
    "from keras.wrappers.scikit_learn import KerasRegressor\n",
    "from sklearn.model_selection import StratifiedKFold\n",
    "from sklearn.model_selection import cross_val_score\n",
    "# create model\n",
    "model_LSTM = KerasRegressor(build_fn=create_model)\n",
    "# define the grid search parameters\n",
    "# layer1_units = [16, 32, 64, 128]\n",
    "# layer2_units=[3, 4, 5, 6]\n",
    "# dropout_rate1=[0.1, 0.2, 0.3, 0.4, 0.5]\n",
    "# dropout_rate2=[0.1, 0.2, 0.3, 0.4, 0.5]\n",
    "filters = [16, 32, 48, 64, 80]\n",
    "LSTM_units=[2, 4, 6, 8]\n",
    "dropout_rate1=[0.1, 0.2, 0.3, 0.4]\n",
    "fc_nodes=[32, 48, 64, 80, 96]\n",
    "param_grid = dict(filters=filters, LSTM_units=LSTM_units, dropout_rate1=dropout_rate1, fc_nodes=fc_nodes)\n",
    "LSTM_search = GridSearchCV(estimator=model_LSTM, param_grid=param_grid, cv=10, verbose=2)\n"
   ]
  },
  {
   "cell_type": "code",
   "execution_count": 247,
   "metadata": {},
   "outputs": [],
   "source": [
    "## merge inputs\n",
    "combine_input_train = np.concatenate([np.reshape(X_train_channel, [np.shape(X_train_channel)[0], -1]), ICN_train], axis=1)\n",
    "combine_input_test = np.concatenate([np.reshape(X_test_channel, [np.shape(X_test_channel)[0], -1]), ICN_test], axis=1)"
   ]
  },
  {
   "cell_type": "code",
   "execution_count": null,
   "metadata": {},
   "outputs": [
    {
     "name": "stdout",
     "output_type": "stream",
     "text": [
      "Fitting 10 folds for each of 400 candidates, totalling 4000 fits\n",
      "[CV] LSTM_units=2, dropout_rate1=0.1, fc_nodes=32, filters=16 ........\n"
     ]
    },
    {
     "name": "stderr",
     "output_type": "stream",
     "text": [
      "[Parallel(n_jobs=1)]: Using backend SequentialBackend with 1 concurrent workers.\n"
     ]
    },
    {
     "name": "stdout",
     "output_type": "stream",
     "text": [
      "1/1 [==============================] - 0s 290ms/step - loss: 0.0160 - mean_squared_error: 0.0160\n",
      "[CV]  LSTM_units=2, dropout_rate1=0.1, fc_nodes=32, filters=16, total=  55.2s\n",
      "[CV] LSTM_units=2, dropout_rate1=0.1, fc_nodes=32, filters=16 ........\n"
     ]
    },
    {
     "name": "stderr",
     "output_type": "stream",
     "text": [
      "[Parallel(n_jobs=1)]: Done   1 out of   1 | elapsed:   55.2s remaining:    0.0s\n"
     ]
    },
    {
     "name": "stdout",
     "output_type": "stream",
     "text": [
      "1/1 [==============================] - 0s 326ms/step - loss: 0.0230 - mean_squared_error: 0.0230\n",
      "[CV]  LSTM_units=2, dropout_rate1=0.1, fc_nodes=32, filters=16, total=  54.9s\n",
      "[CV] LSTM_units=2, dropout_rate1=0.1, fc_nodes=32, filters=16 ........\n",
      "1/1 [==============================] - 0s 280ms/step - loss: 0.0223 - mean_squared_error: 0.0223\n",
      "[CV]  LSTM_units=2, dropout_rate1=0.1, fc_nodes=32, filters=16, total=  51.1s\n",
      "[CV] LSTM_units=2, dropout_rate1=0.1, fc_nodes=32, filters=16 ........\n",
      "1/1 [==============================] - 0s 267ms/step - loss: 0.0240 - mean_squared_error: 0.0240\n",
      "[CV]  LSTM_units=2, dropout_rate1=0.1, fc_nodes=32, filters=16, total=  50.4s\n",
      "[CV] LSTM_units=2, dropout_rate1=0.1, fc_nodes=32, filters=16 ........\n",
      "1/1 [==============================] - 0s 337ms/step - loss: 0.0097 - mean_squared_error: 0.0097\n",
      "[CV]  LSTM_units=2, dropout_rate1=0.1, fc_nodes=32, filters=16, total=  50.9s\n",
      "[CV] LSTM_units=2, dropout_rate1=0.1, fc_nodes=32, filters=16 ........\n",
      "1/1 [==============================] - 0s 292ms/step - loss: 0.0121 - mean_squared_error: 0.0121\n",
      "[CV]  LSTM_units=2, dropout_rate1=0.1, fc_nodes=32, filters=16, total=  53.1s\n",
      "[CV] LSTM_units=2, dropout_rate1=0.1, fc_nodes=32, filters=16 ........\n",
      "1/1 [==============================] - 0s 279ms/step - loss: 0.0137 - mean_squared_error: 0.0137\n",
      "[CV]  LSTM_units=2, dropout_rate1=0.1, fc_nodes=32, filters=16, total=  51.6s\n",
      "[CV] LSTM_units=2, dropout_rate1=0.1, fc_nodes=32, filters=16 ........\n",
      "1/1 [==============================] - 0s 278ms/step - loss: 0.0291 - mean_squared_error: 0.0291\n",
      "[CV]  LSTM_units=2, dropout_rate1=0.1, fc_nodes=32, filters=16, total=  51.1s\n",
      "[CV] LSTM_units=2, dropout_rate1=0.1, fc_nodes=32, filters=16 ........\n",
      "1/1 [==============================] - 0s 293ms/step - loss: 0.0185 - mean_squared_error: 0.0185\n",
      "[CV]  LSTM_units=2, dropout_rate1=0.1, fc_nodes=32, filters=16, total=  52.0s\n",
      "[CV] LSTM_units=2, dropout_rate1=0.1, fc_nodes=32, filters=16 ........\n",
      "1/1 [==============================] - 0s 296ms/step - loss: 0.0162 - mean_squared_error: 0.0162\n",
      "[CV]  LSTM_units=2, dropout_rate1=0.1, fc_nodes=32, filters=16, total=  51.5s\n",
      "[CV] LSTM_units=2, dropout_rate1=0.1, fc_nodes=32, filters=32 ........\n",
      "1/1 [==============================] - 0s 307ms/step - loss: 0.0148 - mean_squared_error: 0.0148\n",
      "[CV]  LSTM_units=2, dropout_rate1=0.1, fc_nodes=32, filters=32, total=  52.6s\n",
      "[CV] LSTM_units=2, dropout_rate1=0.1, fc_nodes=32, filters=32 ........\n",
      "1/1 [==============================] - 0s 274ms/step - loss: 0.0258 - mean_squared_error: 0.0258\n",
      "[CV]  LSTM_units=2, dropout_rate1=0.1, fc_nodes=32, filters=32, total=  52.3s\n",
      "[CV] LSTM_units=2, dropout_rate1=0.1, fc_nodes=32, filters=32 ........\n",
      "1/1 [==============================] - 0s 299ms/step - loss: 0.0267 - mean_squared_error: 0.0267\n",
      "[CV]  LSTM_units=2, dropout_rate1=0.1, fc_nodes=32, filters=32, total=  57.2s\n",
      "[CV] LSTM_units=2, dropout_rate1=0.1, fc_nodes=32, filters=32 ........\n",
      "1/1 [==============================] - 0s 331ms/step - loss: 0.0224 - mean_squared_error: 0.0224\n",
      "[CV]  LSTM_units=2, dropout_rate1=0.1, fc_nodes=32, filters=32, total=  58.3s\n",
      "[CV] LSTM_units=2, dropout_rate1=0.1, fc_nodes=32, filters=32 ........\n",
      "1/1 [==============================] - 0s 363ms/step - loss: 0.0116 - mean_squared_error: 0.0116\n",
      "[CV]  LSTM_units=2, dropout_rate1=0.1, fc_nodes=32, filters=32, total=  56.2s\n",
      "[CV] LSTM_units=2, dropout_rate1=0.1, fc_nodes=32, filters=32 ........\n",
      "1/1 [==============================] - 0s 271ms/step - loss: 0.0140 - mean_squared_error: 0.0140\n",
      "[CV]  LSTM_units=2, dropout_rate1=0.1, fc_nodes=32, filters=32, total=  50.7s\n",
      "[CV] LSTM_units=2, dropout_rate1=0.1, fc_nodes=32, filters=32 ........\n",
      "1/1 [==============================] - 0s 348ms/step - loss: 0.0124 - mean_squared_error: 0.0124\n",
      "[CV]  LSTM_units=2, dropout_rate1=0.1, fc_nodes=32, filters=32, total=  52.8s\n",
      "[CV] LSTM_units=2, dropout_rate1=0.1, fc_nodes=32, filters=32 ........\n",
      "1/1 [==============================] - 0s 298ms/step - loss: 0.0254 - mean_squared_error: 0.0254\n",
      "[CV]  LSTM_units=2, dropout_rate1=0.1, fc_nodes=32, filters=32, total=  51.3s\n",
      "[CV] LSTM_units=2, dropout_rate1=0.1, fc_nodes=32, filters=32 ........\n",
      "1/1 [==============================] - 0s 268ms/step - loss: 0.0161 - mean_squared_error: 0.0161\n",
      "[CV]  LSTM_units=2, dropout_rate1=0.1, fc_nodes=32, filters=32, total=  50.0s\n",
      "[CV] LSTM_units=2, dropout_rate1=0.1, fc_nodes=32, filters=32 ........\n",
      "1/1 [==============================] - 0s 318ms/step - loss: 0.0183 - mean_squared_error: 0.0183\n",
      "[CV]  LSTM_units=2, dropout_rate1=0.1, fc_nodes=32, filters=32, total=  51.9s\n",
      "[CV] LSTM_units=2, dropout_rate1=0.1, fc_nodes=32, filters=48 ........\n",
      "1/1 [==============================] - 0s 403ms/step - loss: 0.0213 - mean_squared_error: 0.0213\n",
      "[CV]  LSTM_units=2, dropout_rate1=0.1, fc_nodes=32, filters=48, total=  54.4s\n",
      "[CV] LSTM_units=2, dropout_rate1=0.1, fc_nodes=32, filters=48 ........\n",
      "1/1 [==============================] - 1s 584ms/step - loss: 0.0226 - mean_squared_error: 0.0226\n",
      "[CV]  LSTM_units=2, dropout_rate1=0.1, fc_nodes=32, filters=48, total=  53.0s\n",
      "[CV] LSTM_units=2, dropout_rate1=0.1, fc_nodes=32, filters=48 ........\n",
      "1/1 [==============================] - 0s 347ms/step - loss: 0.0337 - mean_squared_error: 0.0337\n",
      "[CV]  LSTM_units=2, dropout_rate1=0.1, fc_nodes=32, filters=48, total=  50.2s\n",
      "[CV] LSTM_units=2, dropout_rate1=0.1, fc_nodes=32, filters=48 ........\n",
      "1/1 [==============================] - 0s 340ms/step - loss: 0.0207 - mean_squared_error: 0.0207\n",
      "[CV]  LSTM_units=2, dropout_rate1=0.1, fc_nodes=32, filters=48, total=  53.5s\n",
      "[CV] LSTM_units=2, dropout_rate1=0.1, fc_nodes=32, filters=48 ........\n",
      "1/1 [==============================] - 0s 294ms/step - loss: 0.0131 - mean_squared_error: 0.0131\n",
      "[CV]  LSTM_units=2, dropout_rate1=0.1, fc_nodes=32, filters=48, total=  51.6s\n",
      "[CV] LSTM_units=2, dropout_rate1=0.1, fc_nodes=32, filters=48 ........\n",
      "1/1 [==============================] - 0s 317ms/step - loss: 0.0124 - mean_squared_error: 0.0124\n",
      "[CV]  LSTM_units=2, dropout_rate1=0.1, fc_nodes=32, filters=48, total=  50.9s\n",
      "[CV] LSTM_units=2, dropout_rate1=0.1, fc_nodes=32, filters=48 ........\n",
      "1/1 [==============================] - 1s 562ms/step - loss: 0.0123 - mean_squared_error: 0.0123\n",
      "[CV]  LSTM_units=2, dropout_rate1=0.1, fc_nodes=32, filters=48, total=  51.4s\n",
      "[CV] LSTM_units=2, dropout_rate1=0.1, fc_nodes=32, filters=48 ........\n",
      "1/1 [==============================] - 0s 305ms/step - loss: 0.0350 - mean_squared_error: 0.0350\n",
      "[CV]  LSTM_units=2, dropout_rate1=0.1, fc_nodes=32, filters=48, total=  50.4s\n",
      "[CV] LSTM_units=2, dropout_rate1=0.1, fc_nodes=32, filters=48 ........\n",
      "1/1 [==============================] - 0s 324ms/step - loss: 0.0222 - mean_squared_error: 0.0222\n",
      "[CV]  LSTM_units=2, dropout_rate1=0.1, fc_nodes=32, filters=48, total=  50.4s\n",
      "[CV] LSTM_units=2, dropout_rate1=0.1, fc_nodes=32, filters=48 ........\n",
      "1/1 [==============================] - 0s 343ms/step - loss: 0.0188 - mean_squared_error: 0.0188\n",
      "[CV]  LSTM_units=2, dropout_rate1=0.1, fc_nodes=32, filters=48, total=  56.1s\n",
      "[CV] LSTM_units=2, dropout_rate1=0.1, fc_nodes=32, filters=64 ........\n",
      "1/1 [==============================] - 0s 324ms/step - loss: 0.0159 - mean_squared_error: 0.0159\n",
      "[CV]  LSTM_units=2, dropout_rate1=0.1, fc_nodes=32, filters=64, total=  56.2s\n",
      "[CV] LSTM_units=2, dropout_rate1=0.1, fc_nodes=32, filters=64 ........\n",
      "1/1 [==============================] - 1s 554ms/step - loss: 0.0235 - mean_squared_error: 0.0235\n",
      "[CV]  LSTM_units=2, dropout_rate1=0.1, fc_nodes=32, filters=64, total=  55.2s\n",
      "[CV] LSTM_units=2, dropout_rate1=0.1, fc_nodes=32, filters=64 ........\n",
      "1/1 [==============================] - 0s 337ms/step - loss: 0.0357 - mean_squared_error: 0.0357\n",
      "[CV]  LSTM_units=2, dropout_rate1=0.1, fc_nodes=32, filters=64, total=  52.0s\n",
      "[CV] LSTM_units=2, dropout_rate1=0.1, fc_nodes=32, filters=64 ........\n",
      "1/1 [==============================] - 0s 349ms/step - loss: 0.0276 - mean_squared_error: 0.0276\n",
      "[CV]  LSTM_units=2, dropout_rate1=0.1, fc_nodes=32, filters=64, total=  54.7s\n",
      "[CV] LSTM_units=2, dropout_rate1=0.1, fc_nodes=32, filters=64 ........\n",
      "1/1 [==============================] - 0s 347ms/step - loss: 0.0156 - mean_squared_error: 0.0156\n",
      "[CV]  LSTM_units=2, dropout_rate1=0.1, fc_nodes=32, filters=64, total=  58.5s\n",
      "[CV] LSTM_units=2, dropout_rate1=0.1, fc_nodes=32, filters=64 ........\n",
      "1/1 [==============================] - 0s 374ms/step - loss: 0.0143 - mean_squared_error: 0.0143\n",
      "[CV]  LSTM_units=2, dropout_rate1=0.1, fc_nodes=32, filters=64, total=  58.1s\n",
      "[CV] LSTM_units=2, dropout_rate1=0.1, fc_nodes=32, filters=64 ........\n",
      "1/1 [==============================] - 0s 353ms/step - loss: 0.0135 - mean_squared_error: 0.0135\n",
      "[CV]  LSTM_units=2, dropout_rate1=0.1, fc_nodes=32, filters=64, total=  56.1s\n",
      "[CV] LSTM_units=2, dropout_rate1=0.1, fc_nodes=32, filters=64 ........\n",
      "1/1 [==============================] - 0s 363ms/step - loss: 0.0336 - mean_squared_error: 0.0336\n",
      "[CV]  LSTM_units=2, dropout_rate1=0.1, fc_nodes=32, filters=64, total=  59.7s\n",
      "[CV] LSTM_units=2, dropout_rate1=0.1, fc_nodes=32, filters=64 ........\n",
      "1/1 [==============================] - 0s 344ms/step - loss: 0.0189 - mean_squared_error: 0.0189\n",
      "[CV]  LSTM_units=2, dropout_rate1=0.1, fc_nodes=32, filters=64, total=  55.8s\n",
      "[CV] LSTM_units=2, dropout_rate1=0.1, fc_nodes=32, filters=64 ........\n",
      "1/1 [==============================] - 0s 344ms/step - loss: 0.0240 - mean_squared_error: 0.0240\n",
      "[CV]  LSTM_units=2, dropout_rate1=0.1, fc_nodes=32, filters=64, total=  55.9s\n",
      "[CV] LSTM_units=2, dropout_rate1=0.1, fc_nodes=32, filters=80 ........\n",
      "1/1 [==============================] - 0s 366ms/step - loss: 0.0147 - mean_squared_error: 0.0147\n",
      "[CV]  LSTM_units=2, dropout_rate1=0.1, fc_nodes=32, filters=80, total= 1.0min\n",
      "[CV] LSTM_units=2, dropout_rate1=0.1, fc_nodes=32, filters=80 ........\n",
      "1/1 [==============================] - 0s 427ms/step - loss: 0.0184 - mean_squared_error: 0.0184\n",
      "[CV]  LSTM_units=2, dropout_rate1=0.1, fc_nodes=32, filters=80, total= 1.2min\n",
      "[CV] LSTM_units=2, dropout_rate1=0.1, fc_nodes=32, filters=80 ........\n",
      "1/1 [==============================] - 0s 436ms/step - loss: 0.0333 - mean_squared_error: 0.0333\n",
      "[CV]  LSTM_units=2, dropout_rate1=0.1, fc_nodes=32, filters=80, total= 1.3min\n",
      "[CV] LSTM_units=2, dropout_rate1=0.1, fc_nodes=32, filters=80 ........\n",
      "1/1 [==============================] - 0s 362ms/step - loss: 0.0257 - mean_squared_error: 0.0257\n",
      "[CV]  LSTM_units=2, dropout_rate1=0.1, fc_nodes=32, filters=80, total= 1.2min\n",
      "[CV] LSTM_units=2, dropout_rate1=0.1, fc_nodes=32, filters=80 ........\n",
      "1/1 [==============================] - 0s 335ms/step - loss: 0.0142 - mean_squared_error: 0.0142\n",
      "[CV]  LSTM_units=2, dropout_rate1=0.1, fc_nodes=32, filters=80, total=  56.6s\n",
      "[CV] LSTM_units=2, dropout_rate1=0.1, fc_nodes=32, filters=80 ........\n",
      "1/1 [==============================] - 0s 339ms/step - loss: 0.0149 - mean_squared_error: 0.0149\n",
      "[CV]  LSTM_units=2, dropout_rate1=0.1, fc_nodes=32, filters=80, total=  54.1s\n",
      "[CV] LSTM_units=2, dropout_rate1=0.1, fc_nodes=32, filters=80 ........\n",
      "1/1 [==============================] - 0s 354ms/step - loss: 0.0169 - mean_squared_error: 0.0169\n",
      "[CV]  LSTM_units=2, dropout_rate1=0.1, fc_nodes=32, filters=80, total=  55.3s\n",
      "[CV] LSTM_units=2, dropout_rate1=0.1, fc_nodes=32, filters=80 ........\n",
      "1/1 [==============================] - 0s 354ms/step - loss: 0.0267 - mean_squared_error: 0.0267\n",
      "[CV]  LSTM_units=2, dropout_rate1=0.1, fc_nodes=32, filters=80, total=  56.8s\n",
      "[CV] LSTM_units=2, dropout_rate1=0.1, fc_nodes=32, filters=80 ........\n",
      "1/1 [==============================] - 0s 335ms/step - loss: 0.0176 - mean_squared_error: 0.0176\n",
      "[CV]  LSTM_units=2, dropout_rate1=0.1, fc_nodes=32, filters=80, total=  57.5s\n",
      "[CV] LSTM_units=2, dropout_rate1=0.1, fc_nodes=32, filters=80 ........\n",
      "1/1 [==============================] - 0s 346ms/step - loss: 0.0234 - mean_squared_error: 0.0234\n",
      "[CV]  LSTM_units=2, dropout_rate1=0.1, fc_nodes=32, filters=80, total=  57.8s\n",
      "[CV] LSTM_units=2, dropout_rate1=0.1, fc_nodes=48, filters=16 ........\n",
      "1/1 [==============================] - 0s 350ms/step - loss: 0.0200 - mean_squared_error: 0.0200\n",
      "[CV]  LSTM_units=2, dropout_rate1=0.1, fc_nodes=48, filters=16, total=  57.4s\n",
      "[CV] LSTM_units=2, dropout_rate1=0.1, fc_nodes=48, filters=16 ........\n"
     ]
    }
   ],
   "source": [
    "## grid search to find the best model （This steps takes a long time to run)\n",
    "best_model = LSTM_search.fit(combine_input_train, Y_train,  batch_size=batch_size,  epochs=1200, verbose=0)"
   ]
  },
  {
   "cell_type": "code",
   "execution_count": 197,
   "metadata": {},
   "outputs": [
    {
     "name": "stdout",
     "output_type": "stream",
     "text": [
      "{'LSTM_units': 3, 'dropout_rate1': 0.2, 'fc_nodes': 50, 'filters': 64, 'build_fn': <function create_model at 0x7fb0c8a45cb0>}\n"
     ]
    }
   ],
   "source": [
    "print(best_model.best_estimator_.get_params())"
   ]
  },
  {
   "cell_type": "code",
   "execution_count": null,
   "metadata": {},
   "outputs": [],
   "source": [
    "print('Best Hyperparameters: %s' % best_model.best_estimator_.get_params())"
   ]
  },
  {
   "cell_type": "code",
   "execution_count": null,
   "metadata": {},
   "outputs": [],
   "source": [
    "print('Best Score: %s' % result.best_score_)"
   ]
  },
  {
   "cell_type": "code",
   "execution_count": 237,
   "metadata": {},
   "outputs": [],
   "source": [
    "# Rerun the gbrt with the best combination of hyperparameters\n",
    "#large max_depth to prevent overfitting\n",
    "model_LSTM_best = KerasRegressor(build_fn=create_model, filters=64, LSTM_units=3, dropout_rate1=0.2, fc_nodes=50)\n",
    "model_LSTM_best.fit(combine_input, Y_train, batch_size=batch_size,  epochs=1200, verbose=1)\n",
    "pred_train = model_LSTM_best.predict(combine_input_train)*max_y\n",
    "pred_test = model_LSTM_best.predict(combine_input_test)*max_y"
   ]
  },
  {
   "cell_type": "code",
   "execution_count": 238,
   "metadata": {},
   "outputs": [
    {
     "name": "stdout",
     "output_type": "stream",
     "text": [
      "Mean Absolute Error: 0.10848347609148039\n",
      "Mean Squared Error: 0.020189928435395275\n",
      "Root Mean Squared Error: 0.14209126797729435\n"
     ]
    }
   ],
   "source": [
    "from sklearn import metrics\n",
    "print('Mean Absolute Error:', metrics.mean_absolute_error(Y_test*max_y, pred_test))\n",
    "print('Mean Squared Error:', metrics.mean_squared_error(Y_test*max_y, pred_test))\n",
    "print('Root Mean Squared Error:', np.sqrt(metrics.mean_squared_error(Y_test*max_y, pred_test)))"
   ]
  },
  {
   "cell_type": "code",
   "execution_count": 239,
   "metadata": {},
   "outputs": [
    {
     "data": {
      "text/plain": [
       "(-0.03802068355, 0.8493271745500001, -0.03802068355, 0.8493271745500001)"
      ]
     },
     "execution_count": 239,
     "metadata": {},
     "output_type": "execute_result"
    },
    {
     "data": {
      "image/png": "[encoded data removed]",
      "text/plain": [
       "<Figure size 1080x5040 with 2 Axes>"
      ]
     },
     "metadata": {},
     "output_type": "display_data"
    }
   ],
   "source": [
    "from sklearn.metrics import r2_score\n",
    "title_list=['Nalm 6 Cytotoxicity','IL7RaKLRG1 stemness']\n",
    "plt.figure(figsize=[15,70])\n",
    "i=0\n",
    "gt=Y_train*max_y\n",
    "plt.subplot(1,2,1)\n",
    "plt.scatter(gt,pred_train)\n",
    "xmin=min(min(gt),min(pred_train))\n",
    "xmax=max(max(gt),max(pred_train))\n",
    "xline=np.linspace(xmin,xmax,10)\n",
    "plt.plot(xline,xline,color='red')\n",
    "plt.xlabel('Ground Truth (Training)', fontsize=20)\n",
    "plt.ylabel('Predictions (Training)', fontsize=20)\n",
    "correlation_matrix = np.corrcoef(gt, pred_train)\n",
    "corr = correlation_matrix[0,1]\n",
    "r_squared = corr**2\n",
    "plt.title(title_list[i]+'\\n'+'R^2='+str(r_squared)[:5], fontsize=20)\n",
    "plt.axis('square')\n",
    "\n",
    "plt.subplot(1,2,2)\n",
    "gt=Y_test*max_y\n",
    "plt.scatter(gt,pred_test)\n",
    "xmin=min(min(gt),min(pred_test))\n",
    "xmax=max(max(gt),max(pred_test))\n",
    "xline=np.linspace(xmin,xmax,10)\n",
    "plt.plot(xline,xline,color='red')\n",
    "plt.xlabel('Ground Truth (Test)', fontsize=20)\n",
    "plt.ylabel('Predictions (Test)', fontsize=20)\n",
    "correlation_matrix = np.corrcoef(gt, pred_test)\n",
    "corr = correlation_matrix[0,1]\n",
    "r_squared = corr**2\n",
    "plt.title(title_list[i]+'\\n'+'R^2='+str(r_squared)[:5], fontsize=20)\n",
    "plt.axis('square')"
   ]
  },
  {
   "cell_type": "code",
   "execution_count": null,
   "metadata": {},
   "outputs": [],
   "source": []
  }
 ],
 "metadata": {
  "kernelspec": {
   "display_name": "Python 3",
   "language": "python",
   "name": "python3"
  },
  "language_info": {
   "codemirror_mode": {
    "name": "ipython",
    "version": 3
   },
   "file_extension": ".py",
   "mimetype": "text/x-python",
   "name": "python",
   "nbconvert_exporter": "python",
   "pygments_lexer": "ipython3",
   "version": "3.7.8"
  }
 },
 "nbformat": 4,
 "nbformat_minor": 2
}
